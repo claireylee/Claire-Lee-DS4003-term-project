{
 "cells": [
  {
   "cell_type": "code",
   "execution_count": 47,
   "metadata": {},
   "outputs": [],
   "source": [
    "import dash \n",
    "from dash import html, dcc\n",
    "from dash.dependencies import Input, Output\n",
    "import plotly.express as px \n",
    "import pandas as pd "
   ]
  },
  {
   "cell_type": "code",
   "execution_count": 48,
   "metadata": {},
   "outputs": [],
   "source": [
    "data = pd.read_csv(\"Song.csv\")"
   ]
  },
  {
   "cell_type": "code",
   "execution_count": 49,
   "metadata": {},
   "outputs": [],
   "source": [
    "# initialize the dash app \n",
    "app = dash.Dash(__name__)\n",
    "server = app.server\n"
   ]
  },
  {
   "cell_type": "code",
   "execution_count": 50,
   "metadata": {},
   "outputs": [],
   "source": [
    "# app layout \n",
    "app.layout = html.Div([\n",
    "    html.Div([\n",
    "        html.Button('Sales', id = 'btn-sales', n_clicks = 0), \n",
    "        html.Button('Streams', id = 'btn-streams', n_clicks = 0), \n",
    "        html.Button('Downloads', id = 'btn-downloads', n_clicks = 0), \n",
    "        html.Button('Radio Plays', id = 'btn-radio-plays', n_clicks = 0),\n",
    "    ]), \n",
    "    html.Div(id = 'page-content')\n",
    "])"
   ]
  },
  {
   "cell_type": "code",
   "execution_count": 51,
   "metadata": {},
   "outputs": [],
   "source": [
    "# callback to update the page content based on button clicks\n",
    "@app.callback(\n",
    "    Output('page-content', 'children'),\n",
    "    [Input('btn-sales', 'n_clicks'),\n",
    "     Input('btn-streams', 'n_clicks'),\n",
    "     Input('btn-downloads', 'n_clicks'),\n",
    "     Input('btn-radio-plays', 'n_clicks')]\n",
    ")\n",
    "def update_page(btn_sales, btn_streams, btn_downloads, btn_radio_plays):\n",
    "    ctx = dash.callback_context\n",
    "    button_id = ctx.triggered[0]['prop_id'].split('.')[0]\n",
    "\n",
    "    if button_id == 'btn-sales':\n",
    "        sales_chart = px.bar(data, x = 'Year', y = 'Sales', title = 'Sales Over Years')\n",
    "        return dcc.Graph(figure = sales_chart)\n",
    "        return html.Div([\n",
    "            html.H1('Sales Page'),\n",
    "        ])\n",
    "    elif button_id == 'btn-streams':\n",
    "        # Replace with your streams page content\n",
    "        return html.Div([\n",
    "            html.H1('Streams Page'),\n",
    "            # Add your streams-related content here\n",
    "        ])\n",
    "    elif button_id == 'btn-downloads':\n",
    "        # Replace with your downloads page content\n",
    "        return html.Div([\n",
    "            html.H1('Downloads Page'),\n",
    "            # Add your downloads-related content here\n",
    "        ])\n",
    "    elif button_id == 'btn-radio-plays':\n",
    "        # Replace with your radio plays page content\n",
    "        return html.Div([\n",
    "            html.H1('Radio Plays Page'),\n",
    "            # Add your radio plays-related content here\n",
    "        ])\n",
    "    else:\n",
    "        return html.Div('Welcome! Please select a category.')"
   ]
  },
  {
   "cell_type": "code",
   "execution_count": 52,
   "metadata": {},
   "outputs": [
    {
     "data": {
      "text/html": [
       "\n",
       "        <iframe\n",
       "            width=\"100%\"\n",
       "            height=\"650\"\n",
       "            src=\"http://127.0.0.1:8050/\"\n",
       "            frameborder=\"0\"\n",
       "            allowfullscreen\n",
       "            \n",
       "        ></iframe>\n",
       "        "
      ],
      "text/plain": [
       "<IPython.lib.display.IFrame at 0x136efb430>"
      ]
     },
     "metadata": {},
     "output_type": "display_data"
    }
   ],
   "source": [
    "if __name__ == '__main__':\n",
    "    app.run_server(debug=True)"
   ]
  }
 ],
 "metadata": {
  "kernelspec": {
   "display_name": "ds4003",
   "language": "python",
   "name": "python3"
  },
  "language_info": {
   "codemirror_mode": {
    "name": "ipython",
    "version": 3
   },
   "file_extension": ".py",
   "mimetype": "text/x-python",
   "name": "python",
   "nbconvert_exporter": "python",
   "pygments_lexer": "ipython3",
   "version": "3.8.18"
  }
 },
 "nbformat": 4,
 "nbformat_minor": 2
}
