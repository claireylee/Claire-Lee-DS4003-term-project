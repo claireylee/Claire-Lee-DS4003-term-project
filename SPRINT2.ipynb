{
 "cells": [
  {
   "cell_type": "markdown",
   "metadata": {},
   "source": [
    "## Top Songs of the World\n",
    "DS4003 | Spring 2024 | Claire Lee\n",
    "\n",
    "----\n",
    "This data is collects the top song of the year with the consideration of the commercial success, digital presence, and overall popularity. This dataset is from Kaggle but the primary sources of the dataset are reputable music industry websites, official charts, and streaming platforms. The original purpose of the data was for researchers, analystis, and music enthusiasts to utilize the dataset and explore trends, patterns, and correlations with the featured songs and artists. \n",
    "\n",
    "I have chosen this dataset because I regularly listen to a lot of music on the daily and was interested on what other people were listening to and enjoying. I also really like researching about artists and learning more about what songs of theirs is the most popular. It was also interesting to see that this is data of the entire world and not just America because I only really know what my friends are listening to a lot. \n"
   ]
  },
  {
   "cell_type": "code",
   "execution_count": 163,
   "metadata": {},
   "outputs": [],
   "source": [
    "# import dependencies\n",
    "\n",
    "from dash import Dash, dcc, html\n",
    "import plotly.express as px\n",
    "import pandas as pd\n",
    "import matplotlib.pyplot as plt\n",
    "import os"
   ]
  },
  {
   "cell_type": "code",
   "execution_count": 164,
   "metadata": {},
   "outputs": [
    {
     "data": {
      "text/html": [
       "<div>\n",
       "<style scoped>\n",
       "    .dataframe tbody tr th:only-of-type {\n",
       "        vertical-align: middle;\n",
       "    }\n",
       "\n",
       "    .dataframe tbody tr th {\n",
       "        vertical-align: top;\n",
       "    }\n",
       "\n",
       "    .dataframe thead th {\n",
       "        text-align: right;\n",
       "    }\n",
       "</style>\n",
       "<table border=\"1\" class=\"dataframe\">\n",
       "  <thead>\n",
       "    <tr style=\"text-align: right;\">\n",
       "      <th></th>\n",
       "      <th>Artist</th>\n",
       "      <th>Title</th>\n",
       "      <th>Year</th>\n",
       "      <th>Sales</th>\n",
       "      <th>Streams</th>\n",
       "      <th>Downloads</th>\n",
       "      <th>Radio Plays</th>\n",
       "      <th>Rating</th>\n",
       "    </tr>\n",
       "  </thead>\n",
       "  <tbody>\n",
       "    <tr>\n",
       "      <th>0</th>\n",
       "      <td>Bill Haley &amp; his Comets</td>\n",
       "      <td>Rock Around the Clock</td>\n",
       "      <td>1955</td>\n",
       "      <td>36.503</td>\n",
       "      <td>19.961</td>\n",
       "      <td>7.458</td>\n",
       "      <td>5.663</td>\n",
       "      <td>0.760</td>\n",
       "    </tr>\n",
       "    <tr>\n",
       "      <th>1</th>\n",
       "      <td>Celine Dion</td>\n",
       "      <td>My Heart Will Go On</td>\n",
       "      <td>1998</td>\n",
       "      <td>35.405</td>\n",
       "      <td>12.636</td>\n",
       "      <td>8.944</td>\n",
       "      <td>23.701</td>\n",
       "      <td>3.610</td>\n",
       "    </tr>\n",
       "    <tr>\n",
       "      <th>2</th>\n",
       "      <td>Sinead O'Connor</td>\n",
       "      <td>Nothing Compares 2 U</td>\n",
       "      <td>1990</td>\n",
       "      <td>35.135</td>\n",
       "      <td>14.582</td>\n",
       "      <td>10.242</td>\n",
       "      <td>23.747</td>\n",
       "      <td>2.733</td>\n",
       "    </tr>\n",
       "    <tr>\n",
       "      <th>3</th>\n",
       "      <td>The Beatles</td>\n",
       "      <td>Hey Jude</td>\n",
       "      <td>1968</td>\n",
       "      <td>34.442</td>\n",
       "      <td>25.545</td>\n",
       "      <td>16.390</td>\n",
       "      <td>16.541</td>\n",
       "      <td>1.510</td>\n",
       "    </tr>\n",
       "    <tr>\n",
       "      <th>4</th>\n",
       "      <td>Bryan Adams</td>\n",
       "      <td>(Everything I Do) I Do it For You</td>\n",
       "      <td>1991</td>\n",
       "      <td>34.367</td>\n",
       "      <td>16.523</td>\n",
       "      <td>12.368</td>\n",
       "      <td>23.194</td>\n",
       "      <td>3.121</td>\n",
       "    </tr>\n",
       "  </tbody>\n",
       "</table>\n",
       "</div>"
      ],
      "text/plain": [
       "                    Artist                              Title  Year   Sales  \\\n",
       "0  Bill Haley & his Comets              Rock Around the Clock  1955  36.503   \n",
       "1              Celine Dion                My Heart Will Go On  1998  35.405   \n",
       "2          Sinead O'Connor               Nothing Compares 2 U  1990  35.135   \n",
       "3              The Beatles                           Hey Jude  1968  34.442   \n",
       "4              Bryan Adams  (Everything I Do) I Do it For You  1991  34.367   \n",
       "\n",
       "   Streams  Downloads  Radio Plays  Rating  \n",
       "0   19.961      7.458        5.663   0.760  \n",
       "1   12.636      8.944       23.701   3.610  \n",
       "2   14.582     10.242       23.747   2.733  \n",
       "3   25.545     16.390       16.541   1.510  \n",
       "4   16.523     12.368       23.194   3.121  "
      ]
     },
     "execution_count": 164,
     "metadata": {},
     "output_type": "execute_result"
    }
   ],
   "source": [
    "# read in csv file & view first 5 rows\n",
    "df = pd.read_csv('Song.csv')\n",
    "df.head()"
   ]
  },
  {
   "cell_type": "code",
   "execution_count": 165,
   "metadata": {},
   "outputs": [
    {
     "data": {
      "text/html": [
       "<div>\n",
       "<style scoped>\n",
       "    .dataframe tbody tr th:only-of-type {\n",
       "        vertical-align: middle;\n",
       "    }\n",
       "\n",
       "    .dataframe tbody tr th {\n",
       "        vertical-align: top;\n",
       "    }\n",
       "\n",
       "    .dataframe thead th {\n",
       "        text-align: right;\n",
       "    }\n",
       "</style>\n",
       "<table border=\"1\" class=\"dataframe\">\n",
       "  <thead>\n",
       "    <tr style=\"text-align: right;\">\n",
       "      <th></th>\n",
       "      <th>Artist</th>\n",
       "      <th>Title</th>\n",
       "      <th>Year</th>\n",
       "      <th>Sales</th>\n",
       "      <th>Streams</th>\n",
       "      <th>Downloads</th>\n",
       "      <th>Radio Plays</th>\n",
       "      <th>Rating</th>\n",
       "    </tr>\n",
       "  </thead>\n",
       "  <tbody>\n",
       "    <tr>\n",
       "      <th>4845</th>\n",
       "      <td>Rihanna</td>\n",
       "      <td>If It's Lovin' That You Want</td>\n",
       "      <td>2005</td>\n",
       "      <td>4.150</td>\n",
       "      <td>1.573</td>\n",
       "      <td>1.107</td>\n",
       "      <td>2.196</td>\n",
       "      <td>0.510</td>\n",
       "    </tr>\n",
       "    <tr>\n",
       "      <th>4846</th>\n",
       "      <td>Al Jolson</td>\n",
       "      <td>All Alone</td>\n",
       "      <td>1925</td>\n",
       "      <td>4.150</td>\n",
       "      <td>3.211</td>\n",
       "      <td>0.000</td>\n",
       "      <td>0.000</td>\n",
       "      <td>0.548</td>\n",
       "    </tr>\n",
       "    <tr>\n",
       "      <th>4847</th>\n",
       "      <td>Sailor</td>\n",
       "      <td>Girls, Girls, Girls</td>\n",
       "      <td>1976</td>\n",
       "      <td>4.149</td>\n",
       "      <td>0.200</td>\n",
       "      <td>1.220</td>\n",
       "      <td>6.344</td>\n",
       "      <td>0.000</td>\n",
       "    </tr>\n",
       "    <tr>\n",
       "      <th>4848</th>\n",
       "      <td>Inner Circle</td>\n",
       "      <td>Games People Play</td>\n",
       "      <td>1994</td>\n",
       "      <td>4.149</td>\n",
       "      <td>0.512</td>\n",
       "      <td>0.515</td>\n",
       "      <td>3.097</td>\n",
       "      <td>1.700</td>\n",
       "    </tr>\n",
       "    <tr>\n",
       "      <th>4849</th>\n",
       "      <td>The Who</td>\n",
       "      <td>See Me, Feel Me</td>\n",
       "      <td>1970</td>\n",
       "      <td>4.149</td>\n",
       "      <td>3.630</td>\n",
       "      <td>1.286</td>\n",
       "      <td>3.000</td>\n",
       "      <td>0.000</td>\n",
       "    </tr>\n",
       "  </tbody>\n",
       "</table>\n",
       "</div>"
      ],
      "text/plain": [
       "            Artist                         Title  Year  Sales  Streams  \\\n",
       "4845       Rihanna  If It's Lovin' That You Want  2005  4.150    1.573   \n",
       "4846     Al Jolson                     All Alone  1925  4.150    3.211   \n",
       "4847        Sailor           Girls, Girls, Girls  1976  4.149    0.200   \n",
       "4848  Inner Circle             Games People Play  1994  4.149    0.512   \n",
       "4849       The Who               See Me, Feel Me  1970  4.149    3.630   \n",
       "\n",
       "      Downloads  Radio Plays  Rating  \n",
       "4845      1.107        2.196   0.510  \n",
       "4846      0.000        0.000   0.548  \n",
       "4847      1.220        6.344   0.000  \n",
       "4848      0.515        3.097   1.700  \n",
       "4849      1.286        3.000   0.000  "
      ]
     },
     "execution_count": 165,
     "metadata": {},
     "output_type": "execute_result"
    }
   ],
   "source": [
    "df.tail()"
   ]
  },
  {
   "cell_type": "code",
   "execution_count": 166,
   "metadata": {},
   "outputs": [
    {
     "data": {
      "text/plain": [
       "<bound method DataFrame.info of                        Artist                              Title  Year  \\\n",
       "0     Bill Haley & his Comets              Rock Around the Clock  1955   \n",
       "1                 Celine Dion                My Heart Will Go On  1998   \n",
       "2             Sinead O'Connor               Nothing Compares 2 U  1990   \n",
       "3                 The Beatles                           Hey Jude  1968   \n",
       "4                 Bryan Adams  (Everything I Do) I Do it For You  1991   \n",
       "...                       ...                                ...   ...   \n",
       "4845                  Rihanna       If It's Lovin' That You Want  2005   \n",
       "4846                Al Jolson                          All Alone  1925   \n",
       "4847                   Sailor                Girls, Girls, Girls  1976   \n",
       "4848             Inner Circle                  Games People Play  1994   \n",
       "4849                  The Who                    See Me, Feel Me  1970   \n",
       "\n",
       "       Sales  Streams  Downloads  Radio Plays  Rating  \n",
       "0     36.503   19.961      7.458        5.663   0.760  \n",
       "1     35.405   12.636      8.944       23.701   3.610  \n",
       "2     35.135   14.582     10.242       23.747   2.733  \n",
       "3     34.442   25.545     16.390       16.541   1.510  \n",
       "4     34.367   16.523     12.368       23.194   3.121  \n",
       "...      ...      ...        ...          ...     ...  \n",
       "4845   4.150    1.573      1.107        2.196   0.510  \n",
       "4846   4.150    3.211      0.000        0.000   0.548  \n",
       "4847   4.149    0.200      1.220        6.344   0.000  \n",
       "4848   4.149    0.512      0.515        3.097   1.700  \n",
       "4849   4.149    3.630      1.286        3.000   0.000  \n",
       "\n",
       "[4850 rows x 8 columns]>"
      ]
     },
     "execution_count": 166,
     "metadata": {},
     "output_type": "execute_result"
    }
   ],
   "source": [
    "df.info # gives quick summary of data "
   ]
  },
  {
   "cell_type": "code",
   "execution_count": 167,
   "metadata": {},
   "outputs": [
    {
     "data": {
      "text/plain": [
       "Artist         0\n",
       "Title          0\n",
       "Year           0\n",
       "Sales          0\n",
       "Streams        0\n",
       "Downloads      0\n",
       "Radio Plays    0\n",
       "Rating         0\n",
       "dtype: int64"
      ]
     },
     "execution_count": 167,
     "metadata": {},
     "output_type": "execute_result"
    }
   ],
   "source": [
    "# check for missing values in the dataset\n",
    "df.isnull().sum()\n",
    "# no value is null"
   ]
  },
  {
   "cell_type": "code",
   "execution_count": 168,
   "metadata": {},
   "outputs": [
    {
     "data": {
      "text/plain": [
       "Index(['Artist', 'Title', 'Year', 'Sales', 'Streams', 'Downloads',\n",
       "       'Radio Plays', 'Rating'],\n",
       "      dtype='object')"
      ]
     },
     "execution_count": 168,
     "metadata": {},
     "output_type": "execute_result"
    }
   ],
   "source": [
    "df.columns # are the columns read as columns"
   ]
  },
  {
   "cell_type": "code",
   "execution_count": 169,
   "metadata": {},
   "outputs": [
    {
     "data": {
      "text/plain": [
       "array(['Bill Haley & his Comets', 'Celine Dion', \"Sinead O'Connor\", ...,\n",
       "       'Lyte Funkie Ones', 'Bob Crosby & his Orchestra', 'Major Lance'],\n",
       "      dtype=object)"
      ]
     },
     "execution_count": 169,
     "metadata": {},
     "output_type": "execute_result"
    }
   ],
   "source": [
    "#unique values\n",
    "df.Artist.unique() # there are multiple same artists, does not present that "
   ]
  },
  {
   "cell_type": "code",
   "execution_count": 170,
   "metadata": {},
   "outputs": [
    {
     "data": {
      "text/plain": [
       "array(['Rock Around the Clock', 'My Heart Will Go On',\n",
       "       'Nothing Compares 2 U', ..., 'All Alone', 'Girls, Girls, Girls',\n",
       "       'See Me, Feel Me'], dtype=object)"
      ]
     },
     "execution_count": 170,
     "metadata": {},
     "output_type": "execute_result"
    }
   ],
   "source": [
    "df.Title.unique() #how many unique values of categorical variable"
   ]
  },
  {
   "cell_type": "code",
   "execution_count": 171,
   "metadata": {},
   "outputs": [
    {
     "name": "stdout",
     "output_type": "stream",
     "text": [
      "Artist               category\n",
      "Title                category\n",
      "Year           datetime64[ns]\n",
      "Sales                 float64\n",
      "Streams               float64\n",
      "Downloads             float64\n",
      "Radio Plays           float64\n",
      "Rating                float64\n",
      "dtype: object\n"
     ]
    }
   ],
   "source": [
    "# coverting string column to categorical \n",
    "df['Artist'] = df['Artist'].astype('category') \n",
    "df['Title'] = df['Title'].astype('category')\n",
    "# converting yer to datatime data type \n",
    "df['Year'] = pd.to_datetime(df['Year'], format = '%Y')\n",
    "# quantitative variables \n",
    "df['Sales'] = df['Sales'].astype('float')\n",
    "df['Streams'] = df['Streams'].astype('float')\n",
    "df['Downloads'] = df['Downloads'].astype('float')\n",
    "df['Radio Plays'] = df['Radio Plays'].astype('float')\n",
    "df['Rating'] = df['Rating'].astype('float')\n",
    "\n",
    "print(df.dtypes)"
   ]
  },
  {
   "cell_type": "code",
   "execution_count": 172,
   "metadata": {},
   "outputs": [
    {
     "name": "stdout",
     "output_type": "stream",
     "text": [
      "0\n"
     ]
    }
   ],
   "source": [
    "# checking for duplicates \n",
    "print(df.duplicated().sum())"
   ]
  },
  {
   "cell_type": "code",
   "execution_count": 173,
   "metadata": {},
   "outputs": [
    {
     "data": {
      "image/png": "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",
      "text/plain": [
       "<Figure size 640x480 with 1 Axes>"
      ]
     },
     "metadata": {},
     "output_type": "display_data"
    }
   ],
   "source": [
    "# checking distributions \n",
    "df['Sales'].hist()\n",
    "plt.xlabel('Value')\n",
    "plt.ylabel('Frequency')\n",
    "plt.title('Histogram of Column')\n",
    "plt.show()\n"
   ]
  },
  {
   "cell_type": "code",
   "execution_count": 174,
   "metadata": {},
   "outputs": [
    {
     "data": {
      "image/png": "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",
      "text/plain": [
       "<Figure size 640x480 with 1 Axes>"
      ]
     },
     "metadata": {},
     "output_type": "display_data"
    }
   ],
   "source": [
    "# checking distribution \n",
    "df['Streams'].hist()\n",
    "plt.xlabel('Value')\n",
    "plt.ylabel('Frequency')\n",
    "plt.title('Histogram of Column')\n",
    "plt.show()\n"
   ]
  },
  {
   "cell_type": "code",
   "execution_count": 175,
   "metadata": {},
   "outputs": [
    {
     "data": {
      "image/png": "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",
      "text/plain": [
       "<Figure size 640x480 with 1 Axes>"
      ]
     },
     "metadata": {},
     "output_type": "display_data"
    }
   ],
   "source": [
    "# checking distribution \n",
    "df['Downloads'].hist()\n",
    "plt.xlabel('Value')\n",
    "plt.ylabel('Frequency')\n",
    "plt.title('Histogram of Column')\n",
    "plt.show()\n"
   ]
  },
  {
   "cell_type": "code",
   "execution_count": 176,
   "metadata": {},
   "outputs": [
    {
     "data": {
      "image/png": "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",
      "text/plain": [
       "<Figure size 640x480 with 1 Axes>"
      ]
     },
     "metadata": {},
     "output_type": "display_data"
    }
   ],
   "source": [
    "# checking distribution \n",
    "df['Radio Plays'].hist()\n",
    "plt.xlabel('Value')\n",
    "plt.ylabel('Frequency')\n",
    "plt.title('Histogram of Column')\n",
    "plt.show()\n"
   ]
  },
  {
   "cell_type": "code",
   "execution_count": 177,
   "metadata": {},
   "outputs": [
    {
     "data": {
      "image/png": "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",
      "text/plain": [
       "<Figure size 640x480 with 1 Axes>"
      ]
     },
     "metadata": {},
     "output_type": "display_data"
    }
   ],
   "source": [
    "# checking distribution \n",
    "df['Rating'].hist()\n",
    "plt.xlabel('Value')\n",
    "plt.ylabel('Frequency')\n",
    "plt.title('Histogram of Column')\n",
    "plt.show()\n"
   ]
  },
  {
   "cell_type": "code",
   "execution_count": 178,
   "metadata": {},
   "outputs": [],
   "source": [
    "df.to_csv('data.csv', index = False)\n",
    "downloads_folder = os.path.expanduser(\"~/Downloads\")\n",
    "df.to_csv(os.path.join(downloads_folder, \"data.csv\"), index = False)"
   ]
  },
  {
   "cell_type": "markdown",
   "metadata": {},
   "source": [
    "# exploratory analysis \n",
    "1) there are 4849 observations \n", there is no specific hierarchy when it comes to these values. 
    "2) for the artist column, there are 2243 unique categories(elements). for the title column, there are 4480 unique categories(elements). \n",
    "3) there are 0 missing values per variable \n",
    "4) The distribution for sales is heavily skewed to the right. The distribution for streams is similar in distribution with a skew to the right. There could be possible outliers for all of these being the max value. The distribution for downloads is the same with more values being close to a lower value. Similarly, the distribution for rating also has more values near the end of the x-axis. There could be possible outliers for all of these the max value"
   ]
  },
  {
   "cell_type": "code",
   "execution_count": 179,
   "metadata": {},
   "outputs": [
    {
     "name": "stdout",
     "output_type": "stream",
     "text": [
      "   Column Name       Data Type                                  Description\n",
      "0       Artist        category                       The artist of the song\n",
      "1        Title        category                        the title of the song\n",
      "2         Year  datetime64[ns]               the year the song was released\n",
      "3        Sales         float64        the number of sales the song produced\n",
      "4      Streams         float64      the number of streams the song produced\n",
      "5    Downloads         float64    the number of downloads the song produced\n",
      "6  Radio Plays         float64  the number of radio plays the song produced\n",
      "7       Rating         float64                       the rating of the song\n"
     ]
    }
   ],
   "source": [
    "# data dictionary \n",
    "data_dict = {\n",
    "    'Column Name': df.columns.tolist(),\n",
    "    'Data Type': df.dtypes.tolist(),\n",
    "    'Description':['The artist of the song', \n",
    "                   ' the title of the song', \n",
    "                   'the year the song was released', \n",
    "                   'the number of sales the song produced', \n",
    "                   'the number of streams the song produced', \n",
    "                   'the number of downloads the song produced', \n",
    "                   'the number of radio plays the song produced', \n",
    "                   'the rating of the song',\n",
    "    ]\n",
    "\n",
    "}\n",
    "data_dict = pd.DataFrame(data_dict)\n",
    "print(data_dict)"
   ]
  },
  {
   "cell_type": "markdown",
   "metadata": {},
   "source": [
    "# possible UI components \n",
    "1) adding checkboxes for which variable they want to see\n",
    "2) icons for visual representation (the song title or something to associate the song/artist with the icon) \n",
    "3) adding a text input field so the user could put a year and the song with the most streams will pop up\n"
   ]
  },
  {
   "cell_type": "markdown",
   "metadata": {},
   "source": [
    "# data visualization list\n",
    "1) using a line chart for the year and the number of streams? \n",
    "2) using a scatter plot for the most popular song of the year and the number of number of sales (could use a line chart) \n",
    "3) using a side-by-side bar chart to compare sale performance and the number of streams? \n"
   ]
  }
 ],
 "metadata": {
  "kernelspec": {
   "display_name": "ds4003",
   "language": "python",
   "name": "python3"
  },
  "language_info": {
   "codemirror_mode": {
    "name": "ipython",
    "version": 3
   },
   "file_extension": ".py",
   "mimetype": "text/x-python",
   "name": "python",
   "nbconvert_exporter": "python",
   "pygments_lexer": "ipython3",
   "version": "3.8.18"
  }
 },
 "nbformat": 4,
 "nbformat_minor": 2
}
